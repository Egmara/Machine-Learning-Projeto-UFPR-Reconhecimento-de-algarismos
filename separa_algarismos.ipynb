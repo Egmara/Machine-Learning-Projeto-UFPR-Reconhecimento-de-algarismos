{
 "cells": [
  {
   "cell_type": "code",
   "execution_count": 12,
   "metadata": {},
   "outputs": [],
   "source": [
    "# O objetivo final é identificar os algarismos na foto, gerar uma imagem quadrada\n",
    "# de tamanho padrão com cada um deles centralizados e retornar os vetores que\n",
    "# representam cada imagem.\n",
    "#\n",
    "# Atenção: quando a imagem aparecer não feche a janela, aperte alguma tecla ou então\n",
    "# o jupyter da erro."
   ]
  },
  {
   "cell_type": "code",
   "execution_count": 13,
   "metadata": {},
   "outputs": [],
   "source": [
    "import numpy as np\n",
    "import cv2"
   ]
  },
  {
   "cell_type": "code",
   "execution_count": 14,
   "metadata": {},
   "outputs": [],
   "source": [
    "# deixa a imagem em escala de cinza e borra para reduzir o número de contornos\n",
    "img = cv2.imread('teste3.jpeg')\n",
    "gray = cv2.cvtColor(img, cv2.COLOR_BGR2GRAY)\n",
    "blurred = cv2.GaussianBlur(gray,(5,5),0)"
   ]
  },
  {
   "cell_type": "code",
   "execution_count": 15,
   "metadata": {},
   "outputs": [],
   "source": [
    "# binariza\n",
    "thresh = cv2.adaptiveThreshold(blurred, 255, cv2.ADAPTIVE_THRESH_GAUSSIAN_C, cv2.THRESH_BINARY, 135, 10)"
   ]
  },
  {
   "cell_type": "code",
   "execution_count": 16,
   "metadata": {},
   "outputs": [],
   "source": [
    "# identifica contornos na imagem\n",
    "kernel = np.ones((5, 5),np.uint8)\n",
    "bthresh = cv2.erode(thresh, kernel, iterations = 3)\n",
    "contours, hierarchy = cv2.findContours(bthresh, cv2.RETR_LIST, cv2.CHAIN_APPROX_SIMPLE)"
   ]
  },
  {
   "cell_type": "code",
   "execution_count": 17,
   "metadata": {},
   "outputs": [],
   "source": [
    "# calcula as áreas dos retângulos construídos pelos contornos em contours\n",
    "# o retângulo é limitado entre x e x+h na horizontal e entre y e y+w na vertical\n",
    "area = np.zeros(len(contours))\n",
    "for i, ctr in enumerate(contours):\n",
    "    x, y, w, h = cv2.boundingRect(ctr)\n",
    "    area[i] = w*h\n",
    "bigarea = np.amax(area[0:-1])\n",
    "# bigarea é a area do maior dígito, area[-1] corresponde a toda a imagem e por isso é desprezado"
   ]
  },
  {
   "cell_type": "code",
   "execution_count": 18,
   "metadata": {},
   "outputs": [],
   "source": [
    "# imaginando que os algarismos são os maiores contornos, é suposto que\n",
    "# todo contorno de tamanho superior a 15% do maior corresponde a um algarismo\n",
    "j = 1\n",
    "for i, ctr in enumerate(contours):\n",
    "    x, y, w, h = cv2.boundingRect(ctr)\n",
    "    if 0.15*bigarea < area[i]:\n",
    "        cv2.imwrite(\"test_results/\"+str(j)+\".png\",thresh[y:y+h,x:x+w])\n",
    "        j += 1"
   ]
  },
  {
   "cell_type": "code",
   "execution_count": 19,
   "metadata": {},
   "outputs": [],
   "source": [
    "# adiciona borda branca\n",
    "Vetores = []\n",
    "\n",
    "for i in range(1,j-1):\n",
    "    img = cv2.imread(\"test_results/\"+str(i)+\".png\")\n",
    "    img = cv2.cvtColor(img, cv2.COLOR_BGR2GRAY)\n",
    "    m, n = (np.size(img,0),np.size(img,1))\n",
    "    M = 255*np.ones((int(m+0.3*m), int(m + 0.3*m)))#, dtype = np.int8)\n",
    "    M[int(0.15*m + 1): int(0.15*m + m) + 1, int((0.15*m + 0.5*m - 0.5*n) + 1): int((0.15*m + 0.5*m - 0.5*n) + n) + 1] = img\n",
    "    \n",
    "    # ajusta o traço das imagens, é preciso engordar os dígitos com razão m/n elevada\n",
    "    kernel = np.ones((2, 2),np.uint8)\n",
    "    if n < 0.9*m:\n",
    "        M = cv2.erode(M, kernel, iterations = 1)\n",
    "        \n",
    "    M = cv2.resize(M,dsize = (28,28))\n",
    "    Vetores.append(M.flatten())\n",
    "\n",
    "    # caso queira ir vendo\n",
    "    #cv2.imshow('img', M)\n",
    "    #cv2.waitKey(0)\n",
    "    #cv2.destroyAllWindows()"
   ]
  },
  {
   "cell_type": "code",
   "execution_count": null,
   "metadata": {},
   "outputs": [],
   "source": []
  }
 ],
 "metadata": {
  "kernelspec": {
   "display_name": "Python 3",
   "language": "python",
   "name": "python3"
  },
  "language_info": {
   "codemirror_mode": {
    "name": "ipython",
    "version": 3
   },
   "file_extension": ".py",
   "mimetype": "text/x-python",
   "name": "python",
   "nbconvert_exporter": "python",
   "pygments_lexer": "ipython3",
   "version": "3.6.7"
  }
 },
 "nbformat": 4,
 "nbformat_minor": 2
}
