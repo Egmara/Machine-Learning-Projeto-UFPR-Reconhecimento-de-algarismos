{
 "cells": [
  {
   "cell_type": "code",
   "execution_count": 1,
   "metadata": {},
   "outputs": [
    {
     "name": "stderr",
     "output_type": "stream",
     "text": [
      "/usr/local/lib/python3.6/dist-packages/sklearn/externals/joblib/__init__.py:15: DeprecationWarning: sklearn.externals.joblib is deprecated in 0.21 and will be removed in 0.23. Please import this functionality directly from joblib, which can be installed with: pip install joblib. If this warning is raised when loading pickled models, you may need to re-serialize those models with scikit-learn 0.21+.\n",
      "  warnings.warn(msg, category=DeprecationWarning)\n"
     ]
    }
   ],
   "source": [
    "# importa bibliotecas necessarias\n",
    "\n",
    "from sklearn.neural_network import MLPClassifier\n",
    "from sklearn.model_selection import train_test_split\n",
    "from sklearn.datasets import fetch_openml\n",
    "import matplotlib.pyplot as plt\n",
    "import numpy as np\n",
    "from sklearn.externals import joblib\n",
    "from sklearn.ensemble import RandomForestClassifier\n",
    "from sklearn.svm import SVC\n"
   ]
  },
  {
   "cell_type": "code",
   "execution_count": 2,
   "metadata": {},
   "outputs": [],
   "source": [
    "# analizando banco de dados (NAO PRECISA RODAR ISSO MAIS)\n",
    "\n",
    "#scores = []\n",
    "#for dados in range(150, 2400, 150):\n",
    "#    X = np.load('Banco de dados/Saidas/Num' + str(dados) + '.npy')\n",
    "#    y = np.load('Banco de dados/Saidas/Target' + str(dados) + '.npy')\n",
    "\n",
    "    # inversao para branco (255) no fundo preto (0) e normalização\n",
    "#    X = X/255\n",
    "#    X = -X + 1\n",
    "    \n",
    "    #separa os dados em treino e teste\n",
    "#    X_train, X_test, y_train, y_test = train_test_split(X, y, test_size=0.20, random_state=123)\n",
    "    \n",
    "    # cria classificador usando uma rede neural\n",
    "    #clf = MLPClassifier(hidden_layer_sizes=(100),activation='relu', max_iter=55, alpha=1e-4,\n",
    "    #              solver='lbfgs', verbose=False, tol=1e-4, random_state=1,\n",
    "    #               learning_rate_init=.1)\n",
    "#    clf.fit(X_train, y_train)\n",
    "    \n",
    "    # grava o score\n",
    "#    scores.append(clf.score(X_test, y_test, sample_weight=None))\n",
    "\n",
    "#np.save('Banco de dados/Saidas/scores_redeneural.npy', scores)"
   ]
  },
  {
   "cell_type": "code",
   "execution_count": 3,
   "metadata": {},
   "outputs": [
    {
     "name": "stdout",
     "output_type": "stream",
     "text": [
      "[0.76666667 0.8        0.84444444 0.88333333 0.84       0.9\n",
      " 0.91904762 0.84583333 0.91111111 0.92       0.92727273 0.89444444\n",
      " 0.92051282 0.90952381 0.88444444]\n"
     ]
    }
   ],
   "source": [
    "# imprime os resultados\n",
    "scores = np.load('Banco de dados/Saidas/scores_redeneural.npy')\n",
    "print(scores)"
   ]
  },
  {
   "cell_type": "code",
   "execution_count": 4,
   "metadata": {},
   "outputs": [
    {
     "data": {
      "text/plain": [
       "10"
      ]
     },
     "execution_count": 4,
     "metadata": {},
     "output_type": "execute_result"
    }
   ],
   "source": [
    "# vendo maior score - (python comeca com indice 0).\n",
    "np.argmax(scores)"
   ]
  },
  {
   "cell_type": "code",
   "execution_count": 5,
   "metadata": {},
   "outputs": [],
   "source": [
    "# o maior score de rede neural foi gerado com as 11 primerias linhas de cada folha do banco\n",
    "# de dados (15 folhas), totalizando 11*10*15 = 1650 dados de digitos."
   ]
  },
  {
   "cell_type": "code",
   "execution_count": 6,
   "metadata": {},
   "outputs": [
    {
     "name": "stdout",
     "output_type": "stream",
     "text": [
      "0.9272727272727272\n",
      "0.8818181818181818\n"
     ]
    },
    {
     "data": {
      "text/plain": [
       "['Modelos_de_Classificacao/clf_floresta.pkl']"
      ]
     },
     "execution_count": 6,
     "metadata": {},
     "output_type": "execute_result"
    }
   ],
   "source": [
    "# GERANDO OS CLASSIFICADORES E SALVANDO\n",
    "\n",
    "X = np.load('Banco de dados/Saidas/Num1650.npy')\n",
    "y = np.load('Banco de dados/Saidas/Target1650.npy')\n",
    "#X = np.load('Banco de dados/Saidas/Num2250.npy')\n",
    "#y = np.load('Banco de dados/Saidas/Target2250.npy')\n",
    "\n",
    "# inversao para branco (255) no fundo preto (0) e normalização\n",
    "X = X/255\n",
    "X = -X + 1\n",
    "    \n",
    "#separa os dados em treino e teste\n",
    "X_train, X_test, y_train, y_test = train_test_split(X, y, test_size=0.20, random_state=123)\n",
    "    \n",
    "# cria classificador usando uma rede neural\n",
    "clf_redeneural = MLPClassifier(hidden_layer_sizes=(100),activation='relu', max_iter=55, alpha=1e-4,\n",
    "                solver='lbfgs', verbose=False, tol=1e-4, random_state=1,\n",
    "                learning_rate_init=.1)\n",
    "clf_redeneural.fit(X_train, y_train)\n",
    "print(clf_redeneural.score(X_test, y_test, sample_weight=None))\n",
    "\n",
    "# cria classificador usando floresta\n",
    "clf_floresta = RandomForestClassifier(max_depth = 10, n_estimators = 20)\n",
    "clf_floresta.fit(X_train, y_train)\n",
    "print(clf_floresta.score(X_test, y_test, sample_weight=None))\n",
    "\n",
    "# salva os modelos em arquivos para uso posterior\n",
    "joblib.dump(clf_redeneural, 'Modelos_de_Classificacao/clf_redeneural.pkl')\n",
    "joblib.dump(clf_floresta, 'Modelos_de_Classificacao/clf_floresta.pkl')\n"
   ]
  }
 ],
 "metadata": {
  "kernelspec": {
   "display_name": "Python 3",
   "language": "python",
   "name": "python3"
  },
  "language_info": {
   "codemirror_mode": {
    "name": "ipython",
    "version": 3
   },
   "file_extension": ".py",
   "mimetype": "text/x-python",
   "name": "python",
   "nbconvert_exporter": "python",
   "pygments_lexer": "ipython3",
   "version": "3.6.7"
  }
 },
 "nbformat": 4,
 "nbformat_minor": 2
}
