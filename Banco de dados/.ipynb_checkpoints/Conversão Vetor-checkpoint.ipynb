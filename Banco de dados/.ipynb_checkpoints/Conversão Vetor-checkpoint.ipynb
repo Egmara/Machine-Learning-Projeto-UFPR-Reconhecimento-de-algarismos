{
 "cells": [
  {
   "cell_type": "code",
   "execution_count": 27,
   "metadata": {
    "scrolled": true
   },
   "outputs": [],
   "source": [
    "import cv2\n",
    "import matplotlib.pyplot as plt\n",
    "import numpy as np\n",
    "\n",
    "def extracao(filename, linmax):\n",
    "    Vet = []\n",
    "    image = cv2.imread(filename)\n",
    "    gray = cv2.cvtColor(image, cv2.COLOR_BGR2GRAY)\n",
    "    blurred = cv2.GaussianBlur(gray,(5,5),0)\n",
    "    thresh = cv2.adaptiveThreshold(blurred, 255, cv2.ADAPTIVE_THRESH_GAUSSIAN_C, cv2.THRESH_BINARY, 135, 15)\n",
    "    thresh = cv2.resize(thresh, dsize = (1520,2280), interpolation=cv2.INTER_AREA)\n",
    "    \n",
    "    \n",
    "    for i in range(linmax):\n",
    "        for k in range(10):\n",
    "            \n",
    "            crop_img = (thresh[12+i*152:(i+1)*152-12, 12+k*152:(k+1)*152-12])\n",
    "            \n",
    "            # identifica contornos na imagem\n",
    "            kernel = np.ones((5, 5),np.uint8)\n",
    "            bcrop_img = cv2.erode(crop_img, kernel, iterations = 1)\n",
    "            contours, hierarchy = cv2.findContours(bcrop_img, cv2.RETR_LIST, cv2.CHAIN_APPROX_SIMPLE)\n",
    "            \n",
    "            area = np.zeros(len(contours))\n",
    "            for j, ctr in enumerate(contours):\n",
    "                x, y, w, h = cv2.boundingRect(ctr)\n",
    "                area[j] = w*h\n",
    "            if len(area) > 1:\n",
    "                bigarea = np.amax(area[0:-1])\n",
    "            else:\n",
    "                bigarea = np.amax(area[0])\n",
    "            \n",
    "            for j, ctr in enumerate(contours):\n",
    "                x, y, w, h = cv2.boundingRect(ctr)\n",
    "                if bigarea == area[j]:\n",
    "                    crop_img = crop_img[y:y+h,x:x+w]\n",
    "\n",
    "            m, n = (np.size(crop_img,0),np.size(crop_img,1))\n",
    "            if m >= n:\n",
    "                M = 255*np.ones((int(m+0.36*m), int(m + 0.36*m)))#, dtype = np.int8)\n",
    "                M[round(0.18*m + 1): round(0.18*m + m) + 1, round((0.18*m + 0.5*m - 0.5*n) + 1): round((0.18*m + 0.5*m - 0.5*n) + n) + 1] = crop_img\n",
    "            else:\n",
    "                M = 255*np.ones((int(n+0.36*n), int(n + 0.36*n)))#, dtype = np.int8)\n",
    "                M[round(0.18*n + 1): round(0.18*n + m) + 1, round((0.18*n + 0.5*m - 0.5*n) + 1): round((0.18*n + 0.5*m - 0.5*n) + n) + 1] = crop_img\n",
    "\n",
    "            crop_img = cv2.resize(M,dsize=(28,28),interpolation=cv2.INTER_AREA)\n",
    "            \n",
    "            # padrao de entrada para o classificador\n",
    "            crop_img = np.reshape(crop_img, (784,))\n",
    "            Vet.append(crop_img)\n",
    "    return(Vet)\n"
   ]
  },
  {
   "cell_type": "code",
   "execution_count": 28,
   "metadata": {},
   "outputs": [],
   "source": [
    "for linmax in range(1,16,1):\n",
    "\n",
    "    Vet = []\n",
    "    Target = []\n",
    "\n",
    "    for i in range(15):#para cada folha\n",
    "        for k in range(linmax):\n",
    "            for j in range(10):\n",
    "                Target.append(j)\n",
    "        Vet = Vet + extracao('folha%i.png'%(i+1), linmax)\n",
    "        \n",
    "        n_dados, _ = np.shape(Vet)\n",
    "        \n",
    "    np.save('Saidas/Num' + str(n_dados) + '.npy',Vet)\n",
    "    np.save('Saidas/Target' + str(n_dados) + '.npy',Target)"
   ]
  },
  {
   "cell_type": "code",
   "execution_count": 30,
   "metadata": {},
   "outputs": [],
   "source": [
    "# plota todos os dígitos\n",
    "#showme = True\n",
    "#if showme:\n",
    "#    for folhan in range(16):\n",
    "#        fig = plt.figure(figsize = [12,18])\n",
    "#        for j, i in enumerate(range(10*folhan,10*(folhan+1))):\n",
    "#            plt.subplot(15, 10, j+1, xticks = [], yticks = [])\n",
    "#            plt.imshow(np.reshape(Vet[i], (28,28)), cmap=plt.cm.gray_r)\n",
    "#        print('Folha '+str(folhan+1))\n",
    "#        plt.show()"
   ]
  },
  {
   "cell_type": "code",
   "execution_count": null,
   "metadata": {},
   "outputs": [],
   "source": []
  }
 ],
 "metadata": {
  "kernelspec": {
   "display_name": "Python 3",
   "language": "python",
   "name": "python3"
  },
  "language_info": {
   "codemirror_mode": {
    "name": "ipython",
    "version": 3
   },
   "file_extension": ".py",
   "mimetype": "text/x-python",
   "name": "python",
   "nbconvert_exporter": "python",
   "pygments_lexer": "ipython3",
   "version": "3.6.8"
  }
 },
 "nbformat": 4,
 "nbformat_minor": 2
}
