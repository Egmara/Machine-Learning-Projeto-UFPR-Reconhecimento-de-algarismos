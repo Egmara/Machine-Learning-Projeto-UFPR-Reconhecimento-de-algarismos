{
 "cells": [
  {
   "cell_type": "code",
   "execution_count": 90,
   "metadata": {},
   "outputs": [],
   "source": [
    "# carrega funcao que separa algarismos da imagem de teste\n",
    "%run -i 'separa_algarismos.ipynb'"
   ]
  },
  {
   "cell_type": "code",
   "execution_count": 77,
   "metadata": {},
   "outputs": [],
   "source": [
    "# carrega os classificadores salvos\n",
    "from sklearn.externals import joblib\n",
    "\n",
    "clf_redeneural = joblib.load('Modelos_de_Classificacao/clf_redeneural.pkl')\n",
    "clf_floresta = joblib.load('Modelos_de_Classificacao/clf_floresta.pkl')\n",
    "#clf_redeneural = joblib.load('Modelos_de_Classificacao/clf_redeneural_total.pkl')\n",
    "#clf_floresta = joblib.load('Modelos_de_Classificacao/clf_floresta_total.pkl')\n"
   ]
  },
  {
   "cell_type": "code",
   "execution_count": 78,
   "metadata": {},
   "outputs": [],
   "source": [
    "# chama a funcao para a imagem de teste\n",
    "Vetores = separa_algarismos('teste1.jpeg')\n",
    "\n",
    "for i in np.arange(len(Vetores)):\n",
    "    Vetores[i] = (-Vetores[i] + 255)/255"
   ]
  },
  {
   "cell_type": "code",
   "execution_count": 79,
   "metadata": {},
   "outputs": [
    {
     "data": {
      "text/plain": [
       "array([2, 5, 5])"
      ]
     },
     "execution_count": 79,
     "metadata": {},
     "output_type": "execute_result"
    }
   ],
   "source": [
    "# teste 1\n",
    "clf_floresta.predict(Vetores[0:3])"
   ]
  },
  {
   "cell_type": "code",
   "execution_count": 80,
   "metadata": {},
   "outputs": [
    {
     "data": {
      "text/plain": [
       "array([2, 5, 5])"
      ]
     },
     "execution_count": 80,
     "metadata": {},
     "output_type": "execute_result"
    }
   ],
   "source": [
    "clf_redeneural.predict(Vetores[0:3])"
   ]
  },
  {
   "cell_type": "code",
   "execution_count": 81,
   "metadata": {},
   "outputs": [],
   "source": [
    "#gabarito do teste 1: 2, 5, 5"
   ]
  },
  {
   "cell_type": "code",
   "execution_count": 82,
   "metadata": {},
   "outputs": [],
   "source": [
    "# chama a funcao para a imagem de teste\n",
    "Vetores = separa_algarismos('teste2.jpeg')\n",
    "\n",
    "for i in np.arange(len(Vetores)):\n",
    "    Vetores[i] = (-Vetores[i] + 255)/255"
   ]
  },
  {
   "cell_type": "code",
   "execution_count": 83,
   "metadata": {},
   "outputs": [
    {
     "data": {
      "text/plain": [
       "array([0, 2, 3, 1, 1, 1])"
      ]
     },
     "execution_count": 83,
     "metadata": {},
     "output_type": "execute_result"
    }
   ],
   "source": [
    "clf_floresta.predict(Vetores[0:6])"
   ]
  },
  {
   "cell_type": "code",
   "execution_count": 84,
   "metadata": {},
   "outputs": [
    {
     "data": {
      "text/plain": [
       "array([4, 2, 3, 1, 5, 1])"
      ]
     },
     "execution_count": 84,
     "metadata": {},
     "output_type": "execute_result"
    }
   ],
   "source": [
    "clf_redeneural.predict(Vetores[0:6])"
   ]
  },
  {
   "cell_type": "code",
   "execution_count": 85,
   "metadata": {},
   "outputs": [],
   "source": [
    "#gabarito do teste 2: 0, 2, 3, 7, 4, 1"
   ]
  },
  {
   "cell_type": "code",
   "execution_count": 86,
   "metadata": {},
   "outputs": [],
   "source": [
    "# chama a funcao para a imagem de teste\n",
    "Vetores = separa_algarismos('teste3.jpeg')\n",
    "\n",
    "for i in np.arange(len(Vetores)):\n",
    "    Vetores[i] = (-Vetores[i] + 255)/255"
   ]
  },
  {
   "cell_type": "code",
   "execution_count": 87,
   "metadata": {},
   "outputs": [
    {
     "data": {
      "text/plain": [
       "array([5, 0, 1, 4, 3, 9, 7, 1, 4, 4])"
      ]
     },
     "execution_count": 87,
     "metadata": {},
     "output_type": "execute_result"
    }
   ],
   "source": [
    "clf_floresta.predict(Vetores[0:10])"
   ]
  },
  {
   "cell_type": "code",
   "execution_count": 88,
   "metadata": {},
   "outputs": [
    {
     "data": {
      "text/plain": [
       "array([5, 0, 2, 1, 3, 8, 7, 6, 9, 1])"
      ]
     },
     "execution_count": 88,
     "metadata": {},
     "output_type": "execute_result"
    }
   ],
   "source": [
    "clf_redeneural.predict(Vetores[0:10])"
   ]
  },
  {
   "cell_type": "code",
   "execution_count": 89,
   "metadata": {},
   "outputs": [],
   "source": [
    "#gabarito do teste 3: 5, 0, 2, 1, 3, 8, 7, 6, 9, 4"
   ]
  },
  {
   "cell_type": "code",
   "execution_count": null,
   "metadata": {},
   "outputs": [],
   "source": []
  }
 ],
 "metadata": {
  "kernelspec": {
   "display_name": "Python 3",
   "language": "python",
   "name": "python3"
  },
  "language_info": {
   "codemirror_mode": {
    "name": "ipython",
    "version": 3
   },
   "file_extension": ".py",
   "mimetype": "text/x-python",
   "name": "python",
   "nbconvert_exporter": "python",
   "pygments_lexer": "ipython3",
   "version": "3.6.8"
  }
 },
 "nbformat": 4,
 "nbformat_minor": 2
}
